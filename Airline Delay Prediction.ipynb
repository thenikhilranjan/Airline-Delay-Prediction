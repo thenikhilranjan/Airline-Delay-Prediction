{
  "nbformat": 4,
  "nbformat_minor": 0,
  "metadata": {
    "colab": {
      "provenance": [],
      "toc_visible": true
    },
    "kernelspec": {
      "name": "python3",
      "display_name": "Python 3"
    },
    "language_info": {
      "name": "python"
    }
  },
  "cells": [
    {
      "cell_type": "markdown",
      "source": [],
      "metadata": {
        "id": "ByvUN4deUHY1"
      }
    },
    {
      "cell_type": "code",
      "execution_count": null,
      "metadata": {
        "id": "AafhbUFxS5LE"
      },
      "outputs": [],
      "source": [
        "import numpy as np\n",
        "import seaborn as sns\n",
        "import pandas as pd\n",
        "import matplotlib.pyplot as plt\n",
        "\n",
        "from sklearn.linear_model import SGDClassifier, LogisticRegression\n",
        "from sklearn.ensemble import RandomForestClassifier\n",
        "from sklearn.neighbors import KNeighborsClassifier\n",
        "from sklearn.svm import SVC\n",
        "from sklearn.model_selection import train_test_split\n",
        "from sklearn.linear_model import LinearRegression\n",
        "from sklearn.metrics import accuracy_score\n",
        "from sklearn.naive_bayes import GaussianNB\n",
        "from sklearn.tree import DecisionTreeClassifier\n",
        "\n",
        "from sklearn.feature_selection import SelectKBest\n",
        "from sklearn.feature_selection import chi2\n",
        "from sklearn.feature_selection import f_regression\n",
        "from sklearn.metrics import mean_squared_error\n",
        "from sklearn.metrics import confusion_matrix\n",
        "from sklearn.metrics import classification_report\n",
        "\n",
        "import pandas as pd\n",
        "from sklearn.preprocessing import LabelEncoder\n",
        "\n",
        "import warnings\n",
        "warnings.filterwarnings('ignore')"
      ]
    },
    {
      "cell_type": "code",
      "source": [
        "df = pd.read_csv('Flight delay prediction.csv')"
      ],
      "metadata": {
        "id": "_flE-gvzUOHg"
      },
      "execution_count": null,
      "outputs": []
    },
    {
      "cell_type": "markdown",
      "source": [
        "Data Preprocessing\n"
      ],
      "metadata": {
        "id": "165iS5MuUTOs"
      }
    },
    {
      "cell_type": "code",
      "source": [
        "df.columns"
      ],
      "metadata": {
        "colab": {
          "base_uri": "https://localhost:8080/"
        },
        "id": "h1FnEXREUZVr",
        "outputId": "dc9a43ca-0eec-49bc-a8c1-5f5d28262067"
      },
      "execution_count": null,
      "outputs": [
        {
          "output_type": "execute_result",
          "data": {
            "text/plain": [
              "Index(['id', 'Airline', 'Flight', 'AirportFrom', 'AirportTo', 'DayOfWeek',\n",
              "       'Time', 'Length', 'Delay', 'weather'],\n",
              "      dtype='object')"
            ]
          },
          "metadata": {},
          "execution_count": 3
        }
      ]
    },
    {
      "cell_type": "code",
      "source": [
        "df['Delay'].value_counts()"
      ],
      "metadata": {
        "colab": {
          "base_uri": "https://localhost:8080/"
        },
        "id": "grHWKA7fUejP",
        "outputId": "490756f8-0f99-4519-f488-ceae3cab5619"
      },
      "execution_count": null,
      "outputs": [
        {
          "output_type": "execute_result",
          "data": {
            "text/plain": [
              "0    299119\n",
              "1    240264\n",
              "Name: Delay, dtype: int64"
            ]
          },
          "metadata": {},
          "execution_count": 4
        }
      ]
    },
    {
      "cell_type": "code",
      "source": [
        "df['weather'].value_counts()"
      ],
      "metadata": {
        "colab": {
          "base_uri": "https://localhost:8080/"
        },
        "id": "KVNo6HIdUhnD",
        "outputId": "96ea0d3f-8154-420c-d92b-2e2a2078c0b5"
      },
      "execution_count": null,
      "outputs": [
        {
          "output_type": "execute_result",
          "data": {
            "text/plain": [
              "Perfect      299119\n",
              "Imperfect    240264\n",
              "Name: weather, dtype: int64"
            ]
          },
          "metadata": {},
          "execution_count": 5
        }
      ]
    },
    {
      "cell_type": "code",
      "source": [
        "df['Airline'].value_counts()"
      ],
      "metadata": {
        "colab": {
          "base_uri": "https://localhost:8080/"
        },
        "id": "c3wBTaGYUnNO",
        "outputId": "5dc2c0f2-429c-42f4-81b6-cc0c1cd45806"
      },
      "execution_count": null,
      "outputs": [
        {
          "output_type": "execute_result",
          "data": {
            "text/plain": [
              "WN    94097\n",
              "DL    60940\n",
              "OO    50254\n",
              "AA    45656\n",
              "MQ    36605\n",
              "US    34500\n",
              "XE    31126\n",
              "EV    27983\n",
              "UA    27619\n",
              "CO    21118\n",
              "FL    20827\n",
              "9E    20686\n",
              "B6    18112\n",
              "YV    13725\n",
              "OH    12630\n",
              "AS    11471\n",
              "F9     6456\n",
              "HA     5578\n",
              "Name: Airline, dtype: int64"
            ]
          },
          "metadata": {},
          "execution_count": 6
        }
      ]
    },
    {
      "cell_type": "code",
      "source": [
        "df.info()"
      ],
      "metadata": {
        "colab": {
          "base_uri": "https://localhost:8080/"
        },
        "id": "qi_bKMnVUqwH",
        "outputId": "c6806b1d-6d18-42ca-b66e-e81fcd00ea40"
      },
      "execution_count": null,
      "outputs": [
        {
          "output_type": "stream",
          "name": "stdout",
          "text": [
            "<class 'pandas.core.frame.DataFrame'>\n",
            "RangeIndex: 539383 entries, 0 to 539382\n",
            "Data columns (total 10 columns):\n",
            " #   Column       Non-Null Count   Dtype \n",
            "---  ------       --------------   ----- \n",
            " 0   id           539383 non-null  int64 \n",
            " 1   Airline      539383 non-null  object\n",
            " 2   Flight       539383 non-null  int64 \n",
            " 3   AirportFrom  539383 non-null  object\n",
            " 4   AirportTo    539383 non-null  object\n",
            " 5   DayOfWeek    539383 non-null  int64 \n",
            " 6   Time         539383 non-null  int64 \n",
            " 7   Length       539383 non-null  int64 \n",
            " 8   Delay        539383 non-null  int64 \n",
            " 9   weather      539383 non-null  object\n",
            "dtypes: int64(6), object(4)\n",
            "memory usage: 41.2+ MB\n"
          ]
        }
      ]
    },
    {
      "cell_type": "code",
      "source": [
        "df.isnull().sum()"
      ],
      "metadata": {
        "colab": {
          "base_uri": "https://localhost:8080/"
        },
        "id": "fMxrv-dPUukR",
        "outputId": "c0f1b940-849a-4291-94ac-1da2e2e8a721"
      },
      "execution_count": null,
      "outputs": [
        {
          "output_type": "execute_result",
          "data": {
            "text/plain": [
              "id             0\n",
              "Airline        0\n",
              "Flight         0\n",
              "AirportFrom    0\n",
              "AirportTo      0\n",
              "DayOfWeek      0\n",
              "Time           0\n",
              "Length         0\n",
              "Delay          0\n",
              "weather        0\n",
              "dtype: int64"
            ]
          },
          "metadata": {},
          "execution_count": 8
        }
      ]
    },
    {
      "cell_type": "code",
      "source": [
        "df.describe()"
      ],
      "metadata": {
        "colab": {
          "base_uri": "https://localhost:8080/",
          "height": 300
        },
        "id": "tgcz1NP1UyQu",
        "outputId": "b3052659-e358-413f-decb-e1e1fd16badd"
      },
      "execution_count": null,
      "outputs": [
        {
          "output_type": "execute_result",
          "data": {
            "text/plain": [
              "                  id         Flight      DayOfWeek           Time  \\\n",
              "count  539383.000000  539383.000000  539383.000000  539383.000000   \n",
              "mean   269692.000000    2427.928630       3.929668     802.728963   \n",
              "std    155706.604461    2067.429837       1.914664     278.045911   \n",
              "min         1.000000       1.000000       1.000000      10.000000   \n",
              "25%    134846.500000     712.000000       2.000000     565.000000   \n",
              "50%    269692.000000    1809.000000       4.000000     795.000000   \n",
              "75%    404537.500000    3745.000000       5.000000    1035.000000   \n",
              "max    539383.000000    7814.000000       7.000000    1439.000000   \n",
              "\n",
              "              Length          Delay  \n",
              "count  539383.000000  539383.000000  \n",
              "mean      132.202007       0.445442  \n",
              "std        70.117016       0.497015  \n",
              "min         0.000000       0.000000  \n",
              "25%        81.000000       0.000000  \n",
              "50%       115.000000       0.000000  \n",
              "75%       162.000000       1.000000  \n",
              "max       655.000000       1.000000  "
            ],
            "text/html": [
              "\n",
              "  <div id=\"df-ea962b30-4f60-4995-9c6c-9f2f6963f935\" class=\"colab-df-container\">\n",
              "    <div>\n",
              "<style scoped>\n",
              "    .dataframe tbody tr th:only-of-type {\n",
              "        vertical-align: middle;\n",
              "    }\n",
              "\n",
              "    .dataframe tbody tr th {\n",
              "        vertical-align: top;\n",
              "    }\n",
              "\n",
              "    .dataframe thead th {\n",
              "        text-align: right;\n",
              "    }\n",
              "</style>\n",
              "<table border=\"1\" class=\"dataframe\">\n",
              "  <thead>\n",
              "    <tr style=\"text-align: right;\">\n",
              "      <th></th>\n",
              "      <th>id</th>\n",
              "      <th>Flight</th>\n",
              "      <th>DayOfWeek</th>\n",
              "      <th>Time</th>\n",
              "      <th>Length</th>\n",
              "      <th>Delay</th>\n",
              "    </tr>\n",
              "  </thead>\n",
              "  <tbody>\n",
              "    <tr>\n",
              "      <th>count</th>\n",
              "      <td>539383.000000</td>\n",
              "      <td>539383.000000</td>\n",
              "      <td>539383.000000</td>\n",
              "      <td>539383.000000</td>\n",
              "      <td>539383.000000</td>\n",
              "      <td>539383.000000</td>\n",
              "    </tr>\n",
              "    <tr>\n",
              "      <th>mean</th>\n",
              "      <td>269692.000000</td>\n",
              "      <td>2427.928630</td>\n",
              "      <td>3.929668</td>\n",
              "      <td>802.728963</td>\n",
              "      <td>132.202007</td>\n",
              "      <td>0.445442</td>\n",
              "    </tr>\n",
              "    <tr>\n",
              "      <th>std</th>\n",
              "      <td>155706.604461</td>\n",
              "      <td>2067.429837</td>\n",
              "      <td>1.914664</td>\n",
              "      <td>278.045911</td>\n",
              "      <td>70.117016</td>\n",
              "      <td>0.497015</td>\n",
              "    </tr>\n",
              "    <tr>\n",
              "      <th>min</th>\n",
              "      <td>1.000000</td>\n",
              "      <td>1.000000</td>\n",
              "      <td>1.000000</td>\n",
              "      <td>10.000000</td>\n",
              "      <td>0.000000</td>\n",
              "      <td>0.000000</td>\n",
              "    </tr>\n",
              "    <tr>\n",
              "      <th>25%</th>\n",
              "      <td>134846.500000</td>\n",
              "      <td>712.000000</td>\n",
              "      <td>2.000000</td>\n",
              "      <td>565.000000</td>\n",
              "      <td>81.000000</td>\n",
              "      <td>0.000000</td>\n",
              "    </tr>\n",
              "    <tr>\n",
              "      <th>50%</th>\n",
              "      <td>269692.000000</td>\n",
              "      <td>1809.000000</td>\n",
              "      <td>4.000000</td>\n",
              "      <td>795.000000</td>\n",
              "      <td>115.000000</td>\n",
              "      <td>0.000000</td>\n",
              "    </tr>\n",
              "    <tr>\n",
              "      <th>75%</th>\n",
              "      <td>404537.500000</td>\n",
              "      <td>3745.000000</td>\n",
              "      <td>5.000000</td>\n",
              "      <td>1035.000000</td>\n",
              "      <td>162.000000</td>\n",
              "      <td>1.000000</td>\n",
              "    </tr>\n",
              "    <tr>\n",
              "      <th>max</th>\n",
              "      <td>539383.000000</td>\n",
              "      <td>7814.000000</td>\n",
              "      <td>7.000000</td>\n",
              "      <td>1439.000000</td>\n",
              "      <td>655.000000</td>\n",
              "      <td>1.000000</td>\n",
              "    </tr>\n",
              "  </tbody>\n",
              "</table>\n",
              "</div>\n",
              "    <div class=\"colab-df-buttons\">\n",
              "\n",
              "  <div class=\"colab-df-container\">\n",
              "    <button class=\"colab-df-convert\" onclick=\"convertToInteractive('df-ea962b30-4f60-4995-9c6c-9f2f6963f935')\"\n",
              "            title=\"Convert this dataframe to an interactive table.\"\n",
              "            style=\"display:none;\">\n",
              "\n",
              "  <svg xmlns=\"http://www.w3.org/2000/svg\" height=\"24px\" viewBox=\"0 -960 960 960\">\n",
              "    <path d=\"M120-120v-720h720v720H120Zm60-500h600v-160H180v160Zm220 220h160v-160H400v160Zm0 220h160v-160H400v160ZM180-400h160v-160H180v160Zm440 0h160v-160H620v160ZM180-180h160v-160H180v160Zm440 0h160v-160H620v160Z\"/>\n",
              "  </svg>\n",
              "    </button>\n",
              "\n",
              "  <style>\n",
              "    .colab-df-container {\n",
              "      display:flex;\n",
              "      gap: 12px;\n",
              "    }\n",
              "\n",
              "    .colab-df-convert {\n",
              "      background-color: #E8F0FE;\n",
              "      border: none;\n",
              "      border-radius: 50%;\n",
              "      cursor: pointer;\n",
              "      display: none;\n",
              "      fill: #1967D2;\n",
              "      height: 32px;\n",
              "      padding: 0 0 0 0;\n",
              "      width: 32px;\n",
              "    }\n",
              "\n",
              "    .colab-df-convert:hover {\n",
              "      background-color: #E2EBFA;\n",
              "      box-shadow: 0px 1px 2px rgba(60, 64, 67, 0.3), 0px 1px 3px 1px rgba(60, 64, 67, 0.15);\n",
              "      fill: #174EA6;\n",
              "    }\n",
              "\n",
              "    .colab-df-buttons div {\n",
              "      margin-bottom: 4px;\n",
              "    }\n",
              "\n",
              "    [theme=dark] .colab-df-convert {\n",
              "      background-color: #3B4455;\n",
              "      fill: #D2E3FC;\n",
              "    }\n",
              "\n",
              "    [theme=dark] .colab-df-convert:hover {\n",
              "      background-color: #434B5C;\n",
              "      box-shadow: 0px 1px 3px 1px rgba(0, 0, 0, 0.15);\n",
              "      filter: drop-shadow(0px 1px 2px rgba(0, 0, 0, 0.3));\n",
              "      fill: #FFFFFF;\n",
              "    }\n",
              "  </style>\n",
              "\n",
              "    <script>\n",
              "      const buttonEl =\n",
              "        document.querySelector('#df-ea962b30-4f60-4995-9c6c-9f2f6963f935 button.colab-df-convert');\n",
              "      buttonEl.style.display =\n",
              "        google.colab.kernel.accessAllowed ? 'block' : 'none';\n",
              "\n",
              "      async function convertToInteractive(key) {\n",
              "        const element = document.querySelector('#df-ea962b30-4f60-4995-9c6c-9f2f6963f935');\n",
              "        const dataTable =\n",
              "          await google.colab.kernel.invokeFunction('convertToInteractive',\n",
              "                                                    [key], {});\n",
              "        if (!dataTable) return;\n",
              "\n",
              "        const docLinkHtml = 'Like what you see? Visit the ' +\n",
              "          '<a target=\"_blank\" href=https://colab.research.google.com/notebooks/data_table.ipynb>data table notebook</a>'\n",
              "          + ' to learn more about interactive tables.';\n",
              "        element.innerHTML = '';\n",
              "        dataTable['output_type'] = 'display_data';\n",
              "        await google.colab.output.renderOutput(dataTable, element);\n",
              "        const docLink = document.createElement('div');\n",
              "        docLink.innerHTML = docLinkHtml;\n",
              "        element.appendChild(docLink);\n",
              "      }\n",
              "    </script>\n",
              "  </div>\n",
              "\n",
              "\n",
              "<div id=\"df-b1775737-2ace-4a35-a0cb-bfd21ef66da2\">\n",
              "  <button class=\"colab-df-quickchart\" onclick=\"quickchart('df-b1775737-2ace-4a35-a0cb-bfd21ef66da2')\"\n",
              "            title=\"Suggest charts\"\n",
              "            style=\"display:none;\">\n",
              "\n",
              "<svg xmlns=\"http://www.w3.org/2000/svg\" height=\"24px\"viewBox=\"0 0 24 24\"\n",
              "     width=\"24px\">\n",
              "    <g>\n",
              "        <path d=\"M19 3H5c-1.1 0-2 .9-2 2v14c0 1.1.9 2 2 2h14c1.1 0 2-.9 2-2V5c0-1.1-.9-2-2-2zM9 17H7v-7h2v7zm4 0h-2V7h2v10zm4 0h-2v-4h2v4z\"/>\n",
              "    </g>\n",
              "</svg>\n",
              "  </button>\n",
              "\n",
              "<style>\n",
              "  .colab-df-quickchart {\n",
              "      --bg-color: #E8F0FE;\n",
              "      --fill-color: #1967D2;\n",
              "      --hover-bg-color: #E2EBFA;\n",
              "      --hover-fill-color: #174EA6;\n",
              "      --disabled-fill-color: #AAA;\n",
              "      --disabled-bg-color: #DDD;\n",
              "  }\n",
              "\n",
              "  [theme=dark] .colab-df-quickchart {\n",
              "      --bg-color: #3B4455;\n",
              "      --fill-color: #D2E3FC;\n",
              "      --hover-bg-color: #434B5C;\n",
              "      --hover-fill-color: #FFFFFF;\n",
              "      --disabled-bg-color: #3B4455;\n",
              "      --disabled-fill-color: #666;\n",
              "  }\n",
              "\n",
              "  .colab-df-quickchart {\n",
              "    background-color: var(--bg-color);\n",
              "    border: none;\n",
              "    border-radius: 50%;\n",
              "    cursor: pointer;\n",
              "    display: none;\n",
              "    fill: var(--fill-color);\n",
              "    height: 32px;\n",
              "    padding: 0;\n",
              "    width: 32px;\n",
              "  }\n",
              "\n",
              "  .colab-df-quickchart:hover {\n",
              "    background-color: var(--hover-bg-color);\n",
              "    box-shadow: 0 1px 2px rgba(60, 64, 67, 0.3), 0 1px 3px 1px rgba(60, 64, 67, 0.15);\n",
              "    fill: var(--button-hover-fill-color);\n",
              "  }\n",
              "\n",
              "  .colab-df-quickchart-complete:disabled,\n",
              "  .colab-df-quickchart-complete:disabled:hover {\n",
              "    background-color: var(--disabled-bg-color);\n",
              "    fill: var(--disabled-fill-color);\n",
              "    box-shadow: none;\n",
              "  }\n",
              "\n",
              "  .colab-df-spinner {\n",
              "    border: 2px solid var(--fill-color);\n",
              "    border-color: transparent;\n",
              "    border-bottom-color: var(--fill-color);\n",
              "    animation:\n",
              "      spin 1s steps(1) infinite;\n",
              "  }\n",
              "\n",
              "  @keyframes spin {\n",
              "    0% {\n",
              "      border-color: transparent;\n",
              "      border-bottom-color: var(--fill-color);\n",
              "      border-left-color: var(--fill-color);\n",
              "    }\n",
              "    20% {\n",
              "      border-color: transparent;\n",
              "      border-left-color: var(--fill-color);\n",
              "      border-top-color: var(--fill-color);\n",
              "    }\n",
              "    30% {\n",
              "      border-color: transparent;\n",
              "      border-left-color: var(--fill-color);\n",
              "      border-top-color: var(--fill-color);\n",
              "      border-right-color: var(--fill-color);\n",
              "    }\n",
              "    40% {\n",
              "      border-color: transparent;\n",
              "      border-right-color: var(--fill-color);\n",
              "      border-top-color: var(--fill-color);\n",
              "    }\n",
              "    60% {\n",
              "      border-color: transparent;\n",
              "      border-right-color: var(--fill-color);\n",
              "    }\n",
              "    80% {\n",
              "      border-color: transparent;\n",
              "      border-right-color: var(--fill-color);\n",
              "      border-bottom-color: var(--fill-color);\n",
              "    }\n",
              "    90% {\n",
              "      border-color: transparent;\n",
              "      border-bottom-color: var(--fill-color);\n",
              "    }\n",
              "  }\n",
              "</style>\n",
              "\n",
              "  <script>\n",
              "    async function quickchart(key) {\n",
              "      const quickchartButtonEl =\n",
              "        document.querySelector('#' + key + ' button');\n",
              "      quickchartButtonEl.disabled = true;  // To prevent multiple clicks.\n",
              "      quickchartButtonEl.classList.add('colab-df-spinner');\n",
              "      try {\n",
              "        const charts = await google.colab.kernel.invokeFunction(\n",
              "            'suggestCharts', [key], {});\n",
              "      } catch (error) {\n",
              "        console.error('Error during call to suggestCharts:', error);\n",
              "      }\n",
              "      quickchartButtonEl.classList.remove('colab-df-spinner');\n",
              "      quickchartButtonEl.classList.add('colab-df-quickchart-complete');\n",
              "    }\n",
              "    (() => {\n",
              "      let quickchartButtonEl =\n",
              "        document.querySelector('#df-b1775737-2ace-4a35-a0cb-bfd21ef66da2 button');\n",
              "      quickchartButtonEl.style.display =\n",
              "        google.colab.kernel.accessAllowed ? 'block' : 'none';\n",
              "    })();\n",
              "  </script>\n",
              "</div>\n",
              "    </div>\n",
              "  </div>\n"
            ],
            "application/vnd.google.colaboratory.intrinsic+json": {
              "type": "dataframe",
              "summary": "{\n  \"name\": \"df\",\n  \"rows\": 8,\n  \"fields\": [\n    {\n      \"column\": \"id\",\n      \"properties\": {\n        \"dtype\": \"number\",\n        \"std\": 194395.93807198305,\n        \"min\": 1.0,\n        \"max\": 539383.0,\n        \"num_unique_values\": 6,\n        \"samples\": [\n          539383.0,\n          269692.0,\n          404537.5\n        ],\n        \"semantic_type\": \"\",\n        \"description\": \"\"\n      }\n    },\n    {\n      \"column\": \"Flight\",\n      \"properties\": {\n        \"dtype\": \"number\",\n        \"std\": 189777.39671484492,\n        \"min\": 1.0,\n        \"max\": 539383.0,\n        \"num_unique_values\": 8,\n        \"samples\": [\n          2427.9286295637794,\n          1809.0,\n          539383.0\n        ],\n        \"semantic_type\": \"\",\n        \"description\": \"\"\n      }\n    },\n    {\n      \"column\": \"DayOfWeek\",\n      \"properties\": {\n        \"dtype\": \"number\",\n        \"std\": 190699.4336598168,\n        \"min\": 1.0,\n        \"max\": 539383.0,\n        \"num_unique_values\": 8,\n        \"samples\": [\n          3.929667787082648,\n          4.0,\n          539383.0\n        ],\n        \"semantic_type\": \"\",\n        \"description\": \"\"\n      }\n    },\n    {\n      \"column\": \"Time\",\n      \"properties\": {\n        \"dtype\": \"number\",\n        \"std\": 190452.4561762137,\n        \"min\": 10.0,\n        \"max\": 539383.0,\n        \"num_unique_values\": 8,\n        \"samples\": [\n          802.7289625368245,\n          795.0,\n          539383.0\n        ],\n        \"semantic_type\": \"\",\n        \"description\": \"\"\n      }\n    },\n    {\n      \"column\": \"Length\",\n      \"properties\": {\n        \"dtype\": \"number\",\n        \"std\": 190639.41292455944,\n        \"min\": 0.0,\n        \"max\": 539383.0,\n        \"num_unique_values\": 8,\n        \"samples\": [\n          132.20200673732765,\n          115.0,\n          539383.0\n        ],\n        \"semantic_type\": \"\",\n        \"description\": \"\"\n      }\n    },\n    {\n      \"column\": \"Delay\",\n      \"properties\": {\n        \"dtype\": \"number\",\n        \"std\": 190700.53986228816,\n        \"min\": 0.0,\n        \"max\": 539383.0,\n        \"num_unique_values\": 5,\n        \"samples\": [\n          0.4454422923970537,\n          1.0,\n          0.49701500431685536\n        ],\n        \"semantic_type\": \"\",\n        \"description\": \"\"\n      }\n    }\n  ]\n}"
            }
          },
          "metadata": {},
          "execution_count": 9
        }
      ]
    },
    {
      "cell_type": "code",
      "source": [
        "df.head()"
      ],
      "metadata": {
        "colab": {
          "base_uri": "https://localhost:8080/",
          "height": 206
        },
        "id": "acCLAzx_U2HY",
        "outputId": "bf4994ef-70a6-43a5-e934-2cff97d001d3"
      },
      "execution_count": null,
      "outputs": [
        {
          "output_type": "execute_result",
          "data": {
            "text/plain": [
              "   id Airline  Flight AirportFrom AirportTo  DayOfWeek  Time  Length  Delay  \\\n",
              "0   1      CO     269         SFO       IAH          3    15     205      1   \n",
              "1   2      US    1558         PHX       CLT          3    15     222      1   \n",
              "2   3      AA    2400         LAX       DFW          3    20     165      1   \n",
              "3   4      AA    2466         SFO       DFW          3    20     195      1   \n",
              "4   5      AS     108         ANC       SEA          3    30     202      0   \n",
              "\n",
              "     weather  \n",
              "0  Imperfect  \n",
              "1  Imperfect  \n",
              "2  Imperfect  \n",
              "3  Imperfect  \n",
              "4    Perfect  "
            ],
            "text/html": [
              "\n",
              "  <div id=\"df-c5ff71d1-4a11-4723-abb9-92bb97618983\" class=\"colab-df-container\">\n",
              "    <div>\n",
              "<style scoped>\n",
              "    .dataframe tbody tr th:only-of-type {\n",
              "        vertical-align: middle;\n",
              "    }\n",
              "\n",
              "    .dataframe tbody tr th {\n",
              "        vertical-align: top;\n",
              "    }\n",
              "\n",
              "    .dataframe thead th {\n",
              "        text-align: right;\n",
              "    }\n",
              "</style>\n",
              "<table border=\"1\" class=\"dataframe\">\n",
              "  <thead>\n",
              "    <tr style=\"text-align: right;\">\n",
              "      <th></th>\n",
              "      <th>id</th>\n",
              "      <th>Airline</th>\n",
              "      <th>Flight</th>\n",
              "      <th>AirportFrom</th>\n",
              "      <th>AirportTo</th>\n",
              "      <th>DayOfWeek</th>\n",
              "      <th>Time</th>\n",
              "      <th>Length</th>\n",
              "      <th>Delay</th>\n",
              "      <th>weather</th>\n",
              "    </tr>\n",
              "  </thead>\n",
              "  <tbody>\n",
              "    <tr>\n",
              "      <th>0</th>\n",
              "      <td>1</td>\n",
              "      <td>CO</td>\n",
              "      <td>269</td>\n",
              "      <td>SFO</td>\n",
              "      <td>IAH</td>\n",
              "      <td>3</td>\n",
              "      <td>15</td>\n",
              "      <td>205</td>\n",
              "      <td>1</td>\n",
              "      <td>Imperfect</td>\n",
              "    </tr>\n",
              "    <tr>\n",
              "      <th>1</th>\n",
              "      <td>2</td>\n",
              "      <td>US</td>\n",
              "      <td>1558</td>\n",
              "      <td>PHX</td>\n",
              "      <td>CLT</td>\n",
              "      <td>3</td>\n",
              "      <td>15</td>\n",
              "      <td>222</td>\n",
              "      <td>1</td>\n",
              "      <td>Imperfect</td>\n",
              "    </tr>\n",
              "    <tr>\n",
              "      <th>2</th>\n",
              "      <td>3</td>\n",
              "      <td>AA</td>\n",
              "      <td>2400</td>\n",
              "      <td>LAX</td>\n",
              "      <td>DFW</td>\n",
              "      <td>3</td>\n",
              "      <td>20</td>\n",
              "      <td>165</td>\n",
              "      <td>1</td>\n",
              "      <td>Imperfect</td>\n",
              "    </tr>\n",
              "    <tr>\n",
              "      <th>3</th>\n",
              "      <td>4</td>\n",
              "      <td>AA</td>\n",
              "      <td>2466</td>\n",
              "      <td>SFO</td>\n",
              "      <td>DFW</td>\n",
              "      <td>3</td>\n",
              "      <td>20</td>\n",
              "      <td>195</td>\n",
              "      <td>1</td>\n",
              "      <td>Imperfect</td>\n",
              "    </tr>\n",
              "    <tr>\n",
              "      <th>4</th>\n",
              "      <td>5</td>\n",
              "      <td>AS</td>\n",
              "      <td>108</td>\n",
              "      <td>ANC</td>\n",
              "      <td>SEA</td>\n",
              "      <td>3</td>\n",
              "      <td>30</td>\n",
              "      <td>202</td>\n",
              "      <td>0</td>\n",
              "      <td>Perfect</td>\n",
              "    </tr>\n",
              "  </tbody>\n",
              "</table>\n",
              "</div>\n",
              "    <div class=\"colab-df-buttons\">\n",
              "\n",
              "  <div class=\"colab-df-container\">\n",
              "    <button class=\"colab-df-convert\" onclick=\"convertToInteractive('df-c5ff71d1-4a11-4723-abb9-92bb97618983')\"\n",
              "            title=\"Convert this dataframe to an interactive table.\"\n",
              "            style=\"display:none;\">\n",
              "\n",
              "  <svg xmlns=\"http://www.w3.org/2000/svg\" height=\"24px\" viewBox=\"0 -960 960 960\">\n",
              "    <path d=\"M120-120v-720h720v720H120Zm60-500h600v-160H180v160Zm220 220h160v-160H400v160Zm0 220h160v-160H400v160ZM180-400h160v-160H180v160Zm440 0h160v-160H620v160ZM180-180h160v-160H180v160Zm440 0h160v-160H620v160Z\"/>\n",
              "  </svg>\n",
              "    </button>\n",
              "\n",
              "  <style>\n",
              "    .colab-df-container {\n",
              "      display:flex;\n",
              "      gap: 12px;\n",
              "    }\n",
              "\n",
              "    .colab-df-convert {\n",
              "      background-color: #E8F0FE;\n",
              "      border: none;\n",
              "      border-radius: 50%;\n",
              "      cursor: pointer;\n",
              "      display: none;\n",
              "      fill: #1967D2;\n",
              "      height: 32px;\n",
              "      padding: 0 0 0 0;\n",
              "      width: 32px;\n",
              "    }\n",
              "\n",
              "    .colab-df-convert:hover {\n",
              "      background-color: #E2EBFA;\n",
              "      box-shadow: 0px 1px 2px rgba(60, 64, 67, 0.3), 0px 1px 3px 1px rgba(60, 64, 67, 0.15);\n",
              "      fill: #174EA6;\n",
              "    }\n",
              "\n",
              "    .colab-df-buttons div {\n",
              "      margin-bottom: 4px;\n",
              "    }\n",
              "\n",
              "    [theme=dark] .colab-df-convert {\n",
              "      background-color: #3B4455;\n",
              "      fill: #D2E3FC;\n",
              "    }\n",
              "\n",
              "    [theme=dark] .colab-df-convert:hover {\n",
              "      background-color: #434B5C;\n",
              "      box-shadow: 0px 1px 3px 1px rgba(0, 0, 0, 0.15);\n",
              "      filter: drop-shadow(0px 1px 2px rgba(0, 0, 0, 0.3));\n",
              "      fill: #FFFFFF;\n",
              "    }\n",
              "  </style>\n",
              "\n",
              "    <script>\n",
              "      const buttonEl =\n",
              "        document.querySelector('#df-c5ff71d1-4a11-4723-abb9-92bb97618983 button.colab-df-convert');\n",
              "      buttonEl.style.display =\n",
              "        google.colab.kernel.accessAllowed ? 'block' : 'none';\n",
              "\n",
              "      async function convertToInteractive(key) {\n",
              "        const element = document.querySelector('#df-c5ff71d1-4a11-4723-abb9-92bb97618983');\n",
              "        const dataTable =\n",
              "          await google.colab.kernel.invokeFunction('convertToInteractive',\n",
              "                                                    [key], {});\n",
              "        if (!dataTable) return;\n",
              "\n",
              "        const docLinkHtml = 'Like what you see? Visit the ' +\n",
              "          '<a target=\"_blank\" href=https://colab.research.google.com/notebooks/data_table.ipynb>data table notebook</a>'\n",
              "          + ' to learn more about interactive tables.';\n",
              "        element.innerHTML = '';\n",
              "        dataTable['output_type'] = 'display_data';\n",
              "        await google.colab.output.renderOutput(dataTable, element);\n",
              "        const docLink = document.createElement('div');\n",
              "        docLink.innerHTML = docLinkHtml;\n",
              "        element.appendChild(docLink);\n",
              "      }\n",
              "    </script>\n",
              "  </div>\n",
              "\n",
              "\n",
              "<div id=\"df-eff74835-4105-48b7-baab-498a77589f30\">\n",
              "  <button class=\"colab-df-quickchart\" onclick=\"quickchart('df-eff74835-4105-48b7-baab-498a77589f30')\"\n",
              "            title=\"Suggest charts\"\n",
              "            style=\"display:none;\">\n",
              "\n",
              "<svg xmlns=\"http://www.w3.org/2000/svg\" height=\"24px\"viewBox=\"0 0 24 24\"\n",
              "     width=\"24px\">\n",
              "    <g>\n",
              "        <path d=\"M19 3H5c-1.1 0-2 .9-2 2v14c0 1.1.9 2 2 2h14c1.1 0 2-.9 2-2V5c0-1.1-.9-2-2-2zM9 17H7v-7h2v7zm4 0h-2V7h2v10zm4 0h-2v-4h2v4z\"/>\n",
              "    </g>\n",
              "</svg>\n",
              "  </button>\n",
              "\n",
              "<style>\n",
              "  .colab-df-quickchart {\n",
              "      --bg-color: #E8F0FE;\n",
              "      --fill-color: #1967D2;\n",
              "      --hover-bg-color: #E2EBFA;\n",
              "      --hover-fill-color: #174EA6;\n",
              "      --disabled-fill-color: #AAA;\n",
              "      --disabled-bg-color: #DDD;\n",
              "  }\n",
              "\n",
              "  [theme=dark] .colab-df-quickchart {\n",
              "      --bg-color: #3B4455;\n",
              "      --fill-color: #D2E3FC;\n",
              "      --hover-bg-color: #434B5C;\n",
              "      --hover-fill-color: #FFFFFF;\n",
              "      --disabled-bg-color: #3B4455;\n",
              "      --disabled-fill-color: #666;\n",
              "  }\n",
              "\n",
              "  .colab-df-quickchart {\n",
              "    background-color: var(--bg-color);\n",
              "    border: none;\n",
              "    border-radius: 50%;\n",
              "    cursor: pointer;\n",
              "    display: none;\n",
              "    fill: var(--fill-color);\n",
              "    height: 32px;\n",
              "    padding: 0;\n",
              "    width: 32px;\n",
              "  }\n",
              "\n",
              "  .colab-df-quickchart:hover {\n",
              "    background-color: var(--hover-bg-color);\n",
              "    box-shadow: 0 1px 2px rgba(60, 64, 67, 0.3), 0 1px 3px 1px rgba(60, 64, 67, 0.15);\n",
              "    fill: var(--button-hover-fill-color);\n",
              "  }\n",
              "\n",
              "  .colab-df-quickchart-complete:disabled,\n",
              "  .colab-df-quickchart-complete:disabled:hover {\n",
              "    background-color: var(--disabled-bg-color);\n",
              "    fill: var(--disabled-fill-color);\n",
              "    box-shadow: none;\n",
              "  }\n",
              "\n",
              "  .colab-df-spinner {\n",
              "    border: 2px solid var(--fill-color);\n",
              "    border-color: transparent;\n",
              "    border-bottom-color: var(--fill-color);\n",
              "    animation:\n",
              "      spin 1s steps(1) infinite;\n",
              "  }\n",
              "\n",
              "  @keyframes spin {\n",
              "    0% {\n",
              "      border-color: transparent;\n",
              "      border-bottom-color: var(--fill-color);\n",
              "      border-left-color: var(--fill-color);\n",
              "    }\n",
              "    20% {\n",
              "      border-color: transparent;\n",
              "      border-left-color: var(--fill-color);\n",
              "      border-top-color: var(--fill-color);\n",
              "    }\n",
              "    30% {\n",
              "      border-color: transparent;\n",
              "      border-left-color: var(--fill-color);\n",
              "      border-top-color: var(--fill-color);\n",
              "      border-right-color: var(--fill-color);\n",
              "    }\n",
              "    40% {\n",
              "      border-color: transparent;\n",
              "      border-right-color: var(--fill-color);\n",
              "      border-top-color: var(--fill-color);\n",
              "    }\n",
              "    60% {\n",
              "      border-color: transparent;\n",
              "      border-right-color: var(--fill-color);\n",
              "    }\n",
              "    80% {\n",
              "      border-color: transparent;\n",
              "      border-right-color: var(--fill-color);\n",
              "      border-bottom-color: var(--fill-color);\n",
              "    }\n",
              "    90% {\n",
              "      border-color: transparent;\n",
              "      border-bottom-color: var(--fill-color);\n",
              "    }\n",
              "  }\n",
              "</style>\n",
              "\n",
              "  <script>\n",
              "    async function quickchart(key) {\n",
              "      const quickchartButtonEl =\n",
              "        document.querySelector('#' + key + ' button');\n",
              "      quickchartButtonEl.disabled = true;  // To prevent multiple clicks.\n",
              "      quickchartButtonEl.classList.add('colab-df-spinner');\n",
              "      try {\n",
              "        const charts = await google.colab.kernel.invokeFunction(\n",
              "            'suggestCharts', [key], {});\n",
              "      } catch (error) {\n",
              "        console.error('Error during call to suggestCharts:', error);\n",
              "      }\n",
              "      quickchartButtonEl.classList.remove('colab-df-spinner');\n",
              "      quickchartButtonEl.classList.add('colab-df-quickchart-complete');\n",
              "    }\n",
              "    (() => {\n",
              "      let quickchartButtonEl =\n",
              "        document.querySelector('#df-eff74835-4105-48b7-baab-498a77589f30 button');\n",
              "      quickchartButtonEl.style.display =\n",
              "        google.colab.kernel.accessAllowed ? 'block' : 'none';\n",
              "    })();\n",
              "  </script>\n",
              "</div>\n",
              "    </div>\n",
              "  </div>\n"
            ],
            "application/vnd.google.colaboratory.intrinsic+json": {
              "type": "dataframe",
              "variable_name": "df"
            }
          },
          "metadata": {},
          "execution_count": 10
        }
      ]
    },
    {
      "cell_type": "markdown",
      "source": [
        "Label Encoding"
      ],
      "metadata": {
        "id": "ZeKCu-OjU7hL"
      }
    },
    {
      "cell_type": "code",
      "source": [
        "# List of categorical columns to be label encoded\n",
        "categorical_columns = ['Airline', 'AirportFrom', 'AirportTo','weather']\n",
        "\n",
        "# Initialize LabelEncoder\n",
        "label_encoder = LabelEncoder()\n",
        "\n",
        "# Iterate over each categorical column and transform it\n",
        "for col in categorical_columns:\n",
        "    df[col] = label_encoder.fit_transform(df[col])"
      ],
      "metadata": {
        "id": "V9dV6ulWU9Hl"
      },
      "execution_count": null,
      "outputs": []
    },
    {
      "cell_type": "markdown",
      "source": [
        "Feature selection"
      ],
      "metadata": {
        "id": "dAWYEpKDVJmR"
      }
    },
    {
      "cell_type": "code",
      "source": [
        "# Separate features (X) and target variable (y)\n",
        "X = df.drop(columns=['Delay','id'])  # Exclude the target column from features\n",
        "y = df['Delay']\n",
        "\n",
        "# Split data into training and testing sets\n",
        "X_train, X_test, y_train, y_test = train_test_split(X, y, test_size=0.2, random_state=42)\n",
        "\n",
        "# Initialize SelectKBest with ANOVA F-value scoring\n",
        "k_best = SelectKBest(score_func=f_regression, k=8)\n",
        "# Fit SelectKBest to training data\n",
        "X_train_kbest = k_best.fit_transform(X_train, y_train)\n",
        "\n",
        "# Get indices of selected features\n",
        "selected_indices = k_best.get_support(indices=True)\n",
        "\n",
        "# Get names of selected features\n",
        "selected_features = X.columns[selected_indices]\n",
        "\n",
        "# Evaluate the selected features\n",
        "# Example: Fit a model and evaluate its performance\n",
        "model = LinearRegression()\n",
        "model.fit(X_train_kbest, y_train)\n",
        "y_pred = model.predict(k_best.transform(X_test))\n",
        "mse = mean_squared_error(y_test, y_pred)\n",
        "print(\"Mean Squared Error (Using SelectKBest):\", mse)\n",
        "print(\"Selected features:\", selected_features)"
      ],
      "metadata": {
        "colab": {
          "base_uri": "https://localhost:8080/"
        },
        "id": "dklyvmDAVOXh",
        "outputId": "2b24ff1d-71a4-44dc-fd1e-33bc0638d927"
      },
      "execution_count": null,
      "outputs": [
        {
          "output_type": "stream",
          "name": "stdout",
          "text": [
            "Mean Squared Error (Using SelectKBest): 1.0849515342250246e-29\n",
            "Selected features: Index(['Airline', 'Flight', 'AirportFrom', 'AirportTo', 'DayOfWeek', 'Time',\n",
            "       'Length', 'weather'],\n",
            "      dtype='object')\n"
          ]
        }
      ]
    },
    {
      "cell_type": "markdown",
      "source": [
        "Train Test Split\n"
      ],
      "metadata": {
        "id": "2g3AFDp3VXIp"
      }
    },
    {
      "cell_type": "code",
      "source": [
        "X = df[['Airline', 'Flight', 'AirportFrom', 'AirportTo', 'DayOfWeek', 'Time', 'Length', 'weather']].values\n",
        "y = df['Delay'].values"
      ],
      "metadata": {
        "id": "BEERd6JCVbM_"
      },
      "execution_count": null,
      "outputs": []
    },
    {
      "cell_type": "code",
      "source": [
        "X_train,X_test,y_train,y_test=train_test_split(X,y,test_size = 0.2, random_state=5)"
      ],
      "metadata": {
        "id": "4wr4sOPTVw-6"
      },
      "execution_count": null,
      "outputs": []
    },
    {
      "cell_type": "markdown",
      "source": [
        "Model implementation\n"
      ],
      "metadata": {
        "id": "iyFWrYExV9WI"
      }
    },
    {
      "cell_type": "markdown",
      "source": [
        "Stochastic Gradient Descent (SGD)"
      ],
      "metadata": {
        "id": "AwdNVIFyV-vZ"
      }
    },
    {
      "cell_type": "code",
      "source": [
        "sgd = SGDClassifier(max_iter=5, tol=None)\n",
        "sgd.fit(X_train, y_train)\n",
        "Y_pred = sgd.predict(X_test)\n",
        "sgd.score(X_train, y_train)\n",
        "acc_sgd = round(sgd.score(X_train, y_train) * 100, 2)\n",
        "print(round(acc_sgd,2,), \"%\")"
      ],
      "metadata": {
        "colab": {
          "base_uri": "https://localhost:8080/"
        },
        "id": "q0viipjvWF4t",
        "outputId": "6c797a16-cb5f-488c-d75a-6445d64d80a1"
      },
      "execution_count": null,
      "outputs": [
        {
          "output_type": "stream",
          "name": "stdout",
          "text": [
            "57.42 %\n"
          ]
        }
      ]
    },
    {
      "cell_type": "code",
      "source": [
        "# Calculate confusion matrix\n",
        "conf_mat = confusion_matrix(y_test, Y_pred)\n",
        "\n",
        "# Plot confusion matrix as a heatmap\n",
        "plt.figure(figsize=(8, 6))\n",
        "sns.heatmap(conf_mat, annot=True, fmt='d', cmap=\"Blues\", xticklabels=['Not Delayed', 'Delayed'], yticklabels=['Not Delayed', 'Delayed'])\n",
        "plt.xlabel('Predicted')\n",
        "plt.ylabel('Actual')\n",
        "plt.title('Confusion Matrix')\n",
        "plt.show()"
      ],
      "metadata": {
        "colab": {
          "base_uri": "https://localhost:8080/",
          "height": 564
        },
        "id": "rypf_MAjWNKt",
        "outputId": "5b921784-0858-454d-d7bf-40bb58def5fb"
      },
      "execution_count": null,
      "outputs": [
        {
          "output_type": "display_data",
          "data": {
            "text/plain": [
              "<Figure size 800x600 with 2 Axes>"
            ],
            "image/png": "[encoded data removed]"
          },
          "metadata": {}
        }
      ]
    },
    {
      "cell_type": "code",
      "source": [
        "# Print classification report\n",
        "print(\"Classification Report:\")\n",
        "print(classification_report(y_test, Y_pred))"
      ],
      "metadata": {
        "colab": {
          "base_uri": "https://localhost:8080/"
        },
        "id": "jx6UWU9HWXWn",
        "outputId": "b3cf6ea3-d915-427a-ad7b-0d92e238ef47"
      },
      "execution_count": null,
      "outputs": [
        {
          "output_type": "stream",
          "name": "stdout",
          "text": [
            "Classification Report:\n",
            "              precision    recall  f1-score   support\n",
            "\n",
            "           0       0.57      1.00      0.72     59768\n",
            "           1       0.96      0.05      0.09     48109\n",
            "\n",
            "    accuracy                           0.57    107877\n",
            "   macro avg       0.76      0.52      0.41    107877\n",
            "weighted avg       0.74      0.57      0.44    107877\n",
            "\n"
          ]
        }
      ]
    },
    {
      "cell_type": "markdown",
      "source": [
        "Random Forest Classifier"
      ],
      "metadata": {
        "id": "wXn-uwMoWcPK"
      }
    },
    {
      "cell_type": "code",
      "source": [
        "random_forest = RandomForestClassifier(n_estimators=100)\n",
        "random_forest.fit(X_train, y_train)\n",
        "\n",
        "Y_prediction = random_forest.predict(X_test)\n",
        "\n",
        "random_forest.score(X_train, y_train)\n",
        "acc_random_forest = round(random_forest.score(X_train, y_train) * 100, 2)\n",
        "print(round(acc_random_forest,2,), \"%\")"
      ],
      "metadata": {
        "colab": {
          "base_uri": "https://localhost:8080/"
        },
        "id": "uFbRu_50Wc10",
        "outputId": "c0be5a16-8606-481d-84fa-9a4b12d8f429"
      },
      "execution_count": null,
      "outputs": [
        {
          "output_type": "stream",
          "name": "stdout",
          "text": [
            "100.0 %\n"
          ]
        }
      ]
    },
    {
      "cell_type": "code",
      "source": [
        "# Calculate confusion matrix\n",
        "conf_mat = confusion_matrix(y_test, Y_pred)\n",
        "\n",
        "# Plot confusion matrix as a heatmap\n",
        "plt.figure(figsize=(8, 6))\n",
        "sns.heatmap(conf_mat, annot=True, fmt='d', cmap=\"Blues\", xticklabels=['Not Delayed', 'Delayed'], yticklabels=['Not Delayed', 'Delayed'])\n",
        "plt.xlabel('Predicted')\n",
        "plt.ylabel('Actual')\n",
        "plt.title('Confusion Matrix')\n",
        "plt.show()"
      ],
      "metadata": {
        "colab": {
          "base_uri": "https://localhost:8080/",
          "height": 564
        },
        "id": "-G7kU9i0WpKA",
        "outputId": "035cf17c-e373-4f40-9486-db335279950d"
      },
      "execution_count": null,
      "outputs": [
        {
          "output_type": "display_data",
          "data": {
            "text/plain": [
              "<Figure size 800x600 with 2 Axes>"
            ],
            "image/png": "[encoded data removed]"
          },
          "metadata": {}
        }
      ]
    },
    {
      "cell_type": "code",
      "source": [
        "# Print classification report\n",
        "print(\"Classification Report:\")\n",
        "print(classification_report(y_test, Y_pred))"
      ],
      "metadata": {
        "colab": {
          "base_uri": "https://localhost:8080/"
        },
        "id": "w3-yqM10WuhM",
        "outputId": "42e35981-dce2-431c-c321-f988f5253e90"
      },
      "execution_count": null,
      "outputs": [
        {
          "output_type": "stream",
          "name": "stdout",
          "text": [
            "Classification Report:\n",
            "              precision    recall  f1-score   support\n",
            "\n",
            "           0       0.57      1.00      0.72     59768\n",
            "           1       0.96      0.05      0.09     48109\n",
            "\n",
            "    accuracy                           0.57    107877\n",
            "   macro avg       0.76      0.52      0.41    107877\n",
            "weighted avg       0.74      0.57      0.44    107877\n",
            "\n"
          ]
        }
      ]
    },
    {
      "cell_type": "markdown",
      "source": [
        "Logistic Regression"
      ],
      "metadata": {
        "id": "gK-olTT3WyzK"
      }
    },
    {
      "cell_type": "code",
      "source": [
        "logreg = LogisticRegression()\n",
        "logreg.fit(X_train, y_train)\n",
        "\n",
        "Y_pred = logreg.predict(X_test)\n",
        "\n",
        "acc_log = round(logreg.score(X_train, y_train) * 100, 2)\n",
        "print(round(acc_log,2,), \"%\")"
      ],
      "metadata": {
        "colab": {
          "base_uri": "https://localhost:8080/"
        },
        "id": "0a6GlqpWW1Fw",
        "outputId": "cac68f74-3fed-4e21-9138-1e0588e92f3a"
      },
      "execution_count": null,
      "outputs": [
        {
          "output_type": "stream",
          "name": "stdout",
          "text": [
            "100.0 %\n"
          ]
        }
      ]
    },
    {
      "cell_type": "code",
      "source": [
        "# Calculate confusion matrix\n",
        "conf_mat = confusion_matrix(y_test, Y_pred)\n",
        "\n",
        "# Plot confusion matrix as a heatmap\n",
        "plt.figure(figsize=(8, 6))\n",
        "sns.heatmap(conf_mat, annot=True, fmt='d', cmap=\"Blues\", xticklabels=['Not Delayed', 'Delayed'], yticklabels=['Not Delayed', 'Delayed'])\n",
        "plt.xlabel('Predicted')\n",
        "plt.ylabel('Actual')\n",
        "plt.title('Confusion Matrix')\n",
        "plt.show()"
      ],
      "metadata": {
        "colab": {
          "base_uri": "https://localhost:8080/",
          "height": 564
        },
        "id": "isKfHvDdW9hA",
        "outputId": "5e8dccea-2921-4c2d-8090-78744e029299"
      },
      "execution_count": null,
      "outputs": [
        {
          "output_type": "display_data",
          "data": {
            "text/plain": [
              "<Figure size 800x600 with 2 Axes>"
            ],
            "image/png": "[encoded data removed]"
          },
          "metadata": {}
        }
      ]
    },
    {
      "cell_type": "code",
      "source": [
        "# Print classification report\n",
        "print(\"Classification Report:\")\n",
        "print(classification_report(y_test, Y_pred))"
      ],
      "metadata": {
        "colab": {
          "base_uri": "https://localhost:8080/"
        },
        "id": "3iXjTKT2XCGS",
        "outputId": "dfaa1a3f-313a-4cd6-c3b2-24d458c60a9d"
      },
      "execution_count": null,
      "outputs": [
        {
          "output_type": "stream",
          "name": "stdout",
          "text": [
            "Classification Report:\n",
            "              precision    recall  f1-score   support\n",
            "\n",
            "           0       1.00      1.00      1.00     59768\n",
            "           1       1.00      1.00      1.00     48109\n",
            "\n",
            "    accuracy                           1.00    107877\n",
            "   macro avg       1.00      1.00      1.00    107877\n",
            "weighted avg       1.00      1.00      1.00    107877\n",
            "\n"
          ]
        }
      ]
    },
    {
      "cell_type": "markdown",
      "source": [
        "K-Nearest Neighbor (KNN)"
      ],
      "metadata": {
        "id": "bLJzoG0BXGNm"
      }
    },
    {
      "cell_type": "code",
      "source": [
        "knn = KNeighborsClassifier(n_neighbors = 3)\n",
        "knn.fit(X_train, y_train)\n",
        "\n",
        "Y_pred = knn.predict(X_test)\n",
        "acc_knn = round(knn.score(X_train, y_train) * 100, 2)\n",
        "print(round(acc_knn,2,), \"%\")"
      ],
      "metadata": {
        "colab": {
          "base_uri": "https://localhost:8080/"
        },
        "id": "JTuDn59HXHUh",
        "outputId": "b72606c0-56f3-40ec-af5e-9f75c88d856d"
      },
      "execution_count": null,
      "outputs": [
        {
          "output_type": "stream",
          "name": "stdout",
          "text": [
            "91.24 %\n"
          ]
        }
      ]
    },
    {
      "cell_type": "code",
      "source": [
        "# Calculate confusion matrix\n",
        "conf_mat = confusion_matrix(y_test, Y_pred)\n",
        "\n",
        "# Plot confusion matrix as a heatmap\n",
        "plt.figure(figsize=(8, 6))\n",
        "sns.heatmap(conf_mat, annot=True, fmt='d', cmap=\"Blues\", xticklabels=['Not Delayed', 'Delayed'], yticklabels=['Not Delayed', 'Delayed'])\n",
        "plt.xlabel('Predicted')\n",
        "plt.ylabel('Actual')\n",
        "plt.title('Confusion Matrix')\n",
        "plt.show()"
      ],
      "metadata": {
        "colab": {
          "base_uri": "https://localhost:8080/",
          "height": 564
        },
        "id": "4pCJ-vxMXPH_",
        "outputId": "5ef5bb20-7abc-4414-96cc-d321c0caeaf3"
      },
      "execution_count": null,
      "outputs": [
        {
          "output_type": "display_data",
          "data": {
            "text/plain": [
              "<Figure size 800x600 with 2 Axes>"
            ],
            "image/png": "[encoded data removed]"
          },
          "metadata": {}
        }
      ]
    },
    {
      "cell_type": "code",
      "source": [
        "# Print classification report\n",
        "print(\"Classification Report:\")\n",
        "print(classification_report(y_test, Y_pred))"
      ],
      "metadata": {
        "colab": {
          "base_uri": "https://localhost:8080/"
        },
        "id": "0B0T8fHpXSxf",
        "outputId": "6148129a-f495-40c7-88d5-3c22dfe2f285"
      },
      "execution_count": null,
      "outputs": [
        {
          "output_type": "stream",
          "name": "stdout",
          "text": [
            "Classification Report:\n",
            "              precision    recall  f1-score   support\n",
            "\n",
            "           0       0.79      0.83      0.81     59768\n",
            "           1       0.77      0.72      0.75     48109\n",
            "\n",
            "    accuracy                           0.78    107877\n",
            "   macro avg       0.78      0.78      0.78    107877\n",
            "weighted avg       0.78      0.78      0.78    107877\n",
            "\n"
          ]
        }
      ]
    },
    {
      "cell_type": "markdown",
      "source": [
        "GaussianNB"
      ],
      "metadata": {
        "id": "CRrau_nyXWKI"
      }
    },
    {
      "cell_type": "code",
      "source": [
        "nb= GaussianNB()\n",
        "nb.fit(X_train, y_train)\n",
        "nb_pred = nb.predict(X_test)\n",
        "nb_accuracy = round(accuracy_score(y_test, nb_pred)* 100, 2)\n",
        "print(\"Naive Bayes Accuracy:\", nb_accuracy)\n",
        "print(round(nb_accuracy,2,), \"%\")"
      ],
      "metadata": {
        "colab": {
          "base_uri": "https://localhost:8080/"
        },
        "id": "unWTvzAsXW6W",
        "outputId": "53aa0327-7c33-494b-b498-36ba372db7fd"
      },
      "execution_count": null,
      "outputs": [
        {
          "output_type": "stream",
          "name": "stdout",
          "text": [
            "Naive Bayes Accuracy: 100.0\n",
            "100.0 %\n"
          ]
        }
      ]
    },
    {
      "cell_type": "code",
      "source": [
        "# Calculate confusion matrix\n",
        "conf_mat = confusion_matrix(y_test, nb_pred)\n",
        "\n",
        "# Plot confusion matrix as a heatmap\n",
        "plt.figure(figsize=(8, 6))\n",
        "sns.heatmap(conf_mat, annot=True, fmt='d', cmap=\"Blues\", xticklabels=['Not Delayed', 'Delayed'], yticklabels=['Not Delayed', 'Delayed'])\n",
        "plt.xlabel('Predicted')\n",
        "plt.ylabel('Actual')\n",
        "plt.title('Confusion Matrix')\n",
        "plt.show()"
      ],
      "metadata": {
        "colab": {
          "base_uri": "https://localhost:8080/",
          "height": 564
        },
        "id": "ZyBOKFISXePS",
        "outputId": "439fa84f-3828-4628-c9dc-e01b5413585a"
      },
      "execution_count": null,
      "outputs": [
        {
          "output_type": "display_data",
          "data": {
            "text/plain": [
              "<Figure size 800x600 with 2 Axes>"
            ],
            "image/png": "[encoded data removed]"
          },
          "metadata": {}
        }
      ]
    },
    {
      "cell_type": "code",
      "source": [
        "# Print classification report\n",
        "print(\"Classification Report:\")\n",
        "print(classification_report(y_test, nb_pred))"
      ],
      "metadata": {
        "colab": {
          "base_uri": "https://localhost:8080/"
        },
        "id": "2IjA7mnYXidR",
        "outputId": "f900d539-4a64-4083-ada3-98d06b08d36f"
      },
      "execution_count": null,
      "outputs": [
        {
          "output_type": "stream",
          "name": "stdout",
          "text": [
            "Classification Report:\n",
            "              precision    recall  f1-score   support\n",
            "\n",
            "           0       1.00      1.00      1.00     59768\n",
            "           1       1.00      1.00      1.00     48109\n",
            "\n",
            "    accuracy                           1.00    107877\n",
            "   macro avg       1.00      1.00      1.00    107877\n",
            "weighted avg       1.00      1.00      1.00    107877\n",
            "\n"
          ]
        }
      ]
    },
    {
      "cell_type": "markdown",
      "source": [
        "# DecisionTreeClassifier"
      ],
      "metadata": {
        "id": "a_m68Ws-Xmx7"
      }
    },
    {
      "cell_type": "code",
      "source": [
        "dt= DecisionTreeClassifier()\n",
        "dt.fit(X_train, y_train)\n",
        "dt_pred = dt.predict(X_test)\n",
        "dt_accuracy = round(accuracy_score(y_test, dt_pred)* 100, 2)\n",
        "print(\"Decision Tree Accuracy:\", dt_accuracy)\n",
        "\n",
        "# Calculate confusion matrix\n",
        "conf_mat = confusion_matrix(y_test, dt_pred)"
      ],
      "metadata": {
        "colab": {
          "base_uri": "https://localhost:8080/"
        },
        "id": "XQ0zsiYbXpt7",
        "outputId": "427de552-d885-4b58-c36e-487ecf276e10"
      },
      "execution_count": 31,
      "outputs": [
        {
          "output_type": "stream",
          "name": "stdout",
          "text": [
            "Decision Tree Accuracy: 100.0\n"
          ]
        }
      ]
    },
    {
      "cell_type": "code",
      "source": [
        "# Plot confusion matrix as a heatmap\n",
        "plt.figure(figsize=(8, 6))\n",
        "sns.heatmap(conf_mat, annot=True, fmt='d', cmap=\"Blues\", xticklabels=['Not Delayed', 'Delayed'], yticklabels=['Not Delayed', 'Delayed'])\n",
        "plt.xlabel('Predicted')\n",
        "plt.ylabel('Actual')\n",
        "plt.title('Confusion Matrix')\n",
        "plt.show()"
      ],
      "metadata": {
        "colab": {
          "base_uri": "https://localhost:8080/",
          "height": 564
        },
        "id": "OgrtBqEpXtVy",
        "outputId": "b217970d-eb99-4a76-8b0b-0ed80cb1536f"
      },
      "execution_count": 32,
      "outputs": [
        {
          "output_type": "display_data",
          "data": {
            "text/plain": [
              "<Figure size 800x600 with 2 Axes>"
            ],
            "image/png": "[encoded data removed]"
          },
          "metadata": {}
        }
      ]
    },
    {
      "cell_type": "code",
      "source": [
        "# Print classification report\n",
        "print(\"Classification Report:\")\n",
        "print(classification_report(y_test, dt_pred))"
      ],
      "metadata": {
        "colab": {
          "base_uri": "https://localhost:8080/"
        },
        "id": "J2tkFnmeXxFk",
        "outputId": "b760e959-ce44-4cb7-dee4-bcaf0b72f879"
      },
      "execution_count": 33,
      "outputs": [
        {
          "output_type": "stream",
          "name": "stdout",
          "text": [
            "Classification Report:\n",
            "              precision    recall  f1-score   support\n",
            "\n",
            "           0       1.00      1.00      1.00     59768\n",
            "           1       1.00      1.00      1.00     48109\n",
            "\n",
            "    accuracy                           1.00    107877\n",
            "   macro avg       1.00      1.00      1.00    107877\n",
            "weighted avg       1.00      1.00      1.00    107877\n",
            "\n"
          ]
        }
      ]
    },
    {
      "cell_type": "markdown",
      "source": [
        "**VOTING CLASSIFIER**"
      ],
      "metadata": {
        "id": "_UnFOuqS1QPv"
      }
    },
    {
      "cell_type": "code",
      "source": [
        "from sklearn.ensemble import VotingClassifier\n",
        "\n",
        "# Define the individual models\n",
        "model1 = GaussianNB()\n",
        "model2 = DecisionTreeClassifier()\n",
        "\n",
        "# Define the ensemble model\n",
        "model = VotingClassifier(estimators=[('nb', model1), ('dt', model2)], voting='hard')\n",
        "\n",
        "# Fit the model to the training data\n",
        "model.fit(X_train, y_train)\n",
        "\n",
        "# Make predictions\n",
        "model_pred = model.predict(X_test)\n",
        "\n",
        "# Calculate accuracy\n",
        "model_accuracy = round(accuracy_score(y_test, model_pred) * 100, 2)\n",
        "print(\"Hybrid Model Accuracy:\", model_accuracy,\"%\")\n",
        "\n",
        "# Print classification report\n",
        "print(\"Classification Report:\")\n",
        "print(classification_report(y_test, model_pred))\n"
      ],
      "metadata": {
        "colab": {
          "base_uri": "https://localhost:8080/"
        },
        "id": "-qEvy4m61foD",
        "outputId": "4afbc55b-06f1-4501-da6b-3ae6aba37efe"
      },
      "execution_count": 43,
      "outputs": [
        {
          "output_type": "stream",
          "name": "stdout",
          "text": [
            "Hybrid Model Accuracy: 100.0 %\n",
            "Classification Report:\n",
            "              precision    recall  f1-score   support\n",
            "\n",
            "           0       1.00      1.00      1.00     59768\n",
            "           1       1.00      1.00      1.00     48109\n",
            "\n",
            "    accuracy                           1.00    107877\n",
            "   macro avg       1.00      1.00      1.00    107877\n",
            "weighted avg       1.00      1.00      1.00    107877\n",
            "\n"
          ]
        }
      ]
    },
    {
      "cell_type": "markdown",
      "source": [
        "DEEP Learning"
      ],
      "metadata": {
        "id": "_bcnY7bwXypn"
      }
    },
    {
      "cell_type": "markdown",
      "source": [
        "RNN\n"
      ],
      "metadata": {
        "id": "lj6AnT4BX5Cp"
      }
    },
    {
      "cell_type": "code",
      "source": [
        "import numpy as np\n",
        "import tensorflow as tf\n",
        "from tensorflow.keras import layers, models  # Add this line to import the models submodule\n",
        "\n",
        "# Assuming X_train, X_test, y_train, y_test are already prepared\n",
        "\n",
        "# Define the RNN model\n",
        "model_rnn = models.Sequential([  # This line should work now\n",
        "    layers.SimpleRNN(32, input_shape=(X_train.shape[1], 1)),\n",
        "    layers.Dense(1, activation='sigmoid')\n",
        "])\n",
        "\n",
        "# Compile the model\n",
        "model_rnn.compile(optimizer='adam', loss='binary_crossentropy', metrics=['accuracy'])\n",
        "\n",
        "# Evaluate the model and calculate accuracy\n",
        "evaluation_result = model_rnn.evaluate(X_test, y_test)\n",
        "accuracy_rnn = round(evaluation_result[1] * 100, 2)\n",
        "print(\"Accuracy of RNN model:\", accuracy_rnn, \"%\")"
      ],
      "metadata": {
        "colab": {
          "base_uri": "https://localhost:8080/"
        },
        "id": "ROapppH6X6M7",
        "outputId": "b7b35745-b9f7-4b49-a993-d70707a7cb0b"
      },
      "execution_count": 38,
      "outputs": [
        {
          "output_type": "stream",
          "name": "stdout",
          "text": [
            "3372/3372 [==============================] - 8s 2ms/step - loss: 0.8291 - accuracy: 0.5540\n",
            "Accuracy of RNN model: 55.4 %\n"
          ]
        }
      ]
    },
    {
      "cell_type": "markdown",
      "source": [
        "LSTM"
      ],
      "metadata": {
        "id": "et_ATt4wYQyb"
      }
    },
    {
      "cell_type": "code",
      "source": [
        "# Assuming X_train, X_test, y_train, y_test are already prepared\n",
        "# Define the LSTM model\n",
        "model_lstm = models.Sequential([\n",
        "    layers.LSTM(32, input_shape=(X_train.shape[1], 1)),\n",
        "    layers.Dense(1, activation='sigmoid')\n",
        "])\n",
        "\n",
        "# Compile the model\n",
        "model_lstm.compile(optimizer='adam', loss='binary_crossentropy', metrics=['accuracy'])\n",
        "\n",
        "# Train the model\n",
        "model_lstm.fit(X_train, y_train, epochs=1, batch_size=32, validation_data=(X_test, y_test))\n",
        "\n",
        "# Evaluate the model\n",
        "evaluation_result = model_lstm.evaluate(X_test, y_test)\n",
        "accuracy_lstm = round(evaluation_result[1] * 100, 2)\n",
        "print(\"Accuracy of LSTM model:\", accuracy_lstm, \"%\")"
      ],
      "metadata": {
        "colab": {
          "base_uri": "https://localhost:8080/"
        },
        "id": "jAQloq42YRvI",
        "outputId": "4848ef90-551e-4353-ac66-a709bae69be2"
      },
      "execution_count": 39,
      "outputs": [
        {
          "output_type": "stream",
          "name": "stdout",
          "text": [
            "13485/13485 [==============================] - 80s 6ms/step - loss: 0.0148 - accuracy: 0.9955 - val_loss: 4.1555e-05 - val_accuracy: 1.0000\n",
            "3372/3372 [==============================] - 8s 3ms/step - loss: 4.1555e-05 - accuracy: 1.0000\n",
            "Accuracy of LSTM model: 100.0 %\n"
          ]
        }
      ]
    },
    {
      "cell_type": "markdown",
      "source": [
        "CNN"
      ],
      "metadata": {
        "id": "BPNHPv4dYaBk"
      }
    },
    {
      "cell_type": "code",
      "source": [
        "# Reshape the input data for CNN\n",
        "X_train_cnn = np.reshape(X_train, (X_train.shape[0], X_train.shape[1], 1))\n",
        "X_test_cnn = np.reshape(X_test, (X_test.shape[0], X_test.shape[1], 1))\n",
        "\n",
        "# Define the CNN model\n",
        "model_cnn = models.Sequential([\n",
        "    layers.Conv1D(32, 3, activation='relu', input_shape=(X_train_cnn.shape[1], 1)),\n",
        "    layers.MaxPooling1D(2),\n",
        "    layers.Flatten(),\n",
        "    layers.Dense(64, activation='relu'),\n",
        "    layers.Dense(1, activation='sigmoid')\n",
        "])\n",
        "\n",
        "# Compile the model\n",
        "model_cnn.compile(optimizer='adam', loss='binary_crossentropy', metrics=['accuracy'])\n",
        "\n",
        "# Evaluate the model and calculate accuracy\n",
        "evaluation_result = model_cnn.evaluate(X_test_cnn, y_test)\n",
        "accuracy_cnn = round(evaluation_result[1] * 100, 2)\n",
        "print(\"Accuracy of CNN model:\", accuracy_cnn, \"%\")"
      ],
      "metadata": {
        "colab": {
          "base_uri": "https://localhost:8080/"
        },
        "id": "D7r4e2xUYdYF",
        "outputId": "3b59949e-fdb3-4c99-dd85-156f748b3e22"
      },
      "execution_count": 46,
      "outputs": [
        {
          "output_type": "stream",
          "name": "stdout",
          "text": [
            "3372/3372 [==============================] - 5s 1ms/step - loss: 101.6884 - accuracy: 0.5540\n",
            "Accuracy of CNN model: 55.4 %\n"
          ]
        }
      ]
    },
    {
      "cell_type": "markdown",
      "source": [
        "**LSTM with SGD [Hybrid]**"
      ],
      "metadata": {
        "id": "FC-58Mqi_tHl"
      }
    },
    {
      "cell_type": "code",
      "source": [
        "from tensorflow.keras import layers, models\n",
        "from tensorflow.keras.optimizers import SGD\n",
        "\n",
        "# Assuming X_train, X_test, y_train, y_test are already prepared\n",
        "\n",
        "# Define the LSTM model\n",
        "model_lstm = models.Sequential([\n",
        "    layers.LSTM(32, input_shape=(X_train.shape[1], 1)),\n",
        "    layers.Dense(1, activation='sigmoid')\n",
        "])\n",
        "\n",
        "# Define the SGD optimizer without the decay argument\n",
        "sgd = SGD(learning_rate=0.01, momentum=0.9, nesterov=True)\n",
        "\n",
        "# Compile the model with SGD optimizer\n",
        "model_lstm.compile(optimizer=sgd, loss='binary_crossentropy', metrics=['accuracy'])\n",
        "\n",
        "# Train the model\n",
        "model_lstm.fit(X_train, y_train, epochs=10, batch_size=32, validation_data=(X_test, y_test))\n",
        "\n",
        "# Evaluate the model\n",
        "evaluation_result = model_lstm.evaluate(X_test, y_test)\n",
        "accuracy_lstm = round(evaluation_result[1] * 100, 2)\n",
        "print(\"Accuracy of LSTM model with SGD optimizer:\", accuracy_lstm, \"%\")\n",
        ""
      ],
      "metadata": {
        "colab": {
          "base_uri": "https://localhost:8080/"
        },
        "id": "tK9nPRfT66QP",
        "outputId": "7f0c2d76-145f-4874-828e-a91d7563c719"
      },
      "execution_count": 48,
      "outputs": [
        {
          "output_type": "stream",
          "name": "stdout",
          "text": [
            "Epoch 1/10\n",
            "13485/13485 [==============================] - 89s 6ms/step - loss: 0.0148 - accuracy: 0.9947 - val_loss: 3.0517e-04 - val_accuracy: 1.0000\n",
            "Epoch 2/10\n",
            "13485/13485 [==============================] - 75s 6ms/step - loss: 2.0061e-04 - accuracy: 1.0000 - val_loss: 1.3850e-04 - val_accuracy: 1.0000\n",
            "Epoch 3/10\n",
            "13485/13485 [==============================] - 79s 6ms/step - loss: 1.0910e-04 - accuracy: 1.0000 - val_loss: 8.7995e-05 - val_accuracy: 1.0000\n",
            "Epoch 4/10\n",
            "13485/13485 [==============================] - 80s 6ms/step - loss: 7.4324e-05 - accuracy: 1.0000 - val_loss: 6.3977e-05 - val_accuracy: 1.0000\n",
            "Epoch 5/10\n",
            "13485/13485 [==============================] - 80s 6ms/step - loss: 5.6067e-05 - accuracy: 1.0000 - val_loss: 5.0040e-05 - val_accuracy: 1.0000\n",
            "Epoch 6/10\n",
            "13485/13485 [==============================] - 80s 6ms/step - loss: 4.4855e-05 - accuracy: 1.0000 - val_loss: 4.0981e-05 - val_accuracy: 1.0000\n",
            "Epoch 7/10\n",
            "13485/13485 [==============================] - 79s 6ms/step - loss: 3.7289e-05 - accuracy: 1.0000 - val_loss: 3.4633e-05 - val_accuracy: 1.0000\n",
            "Epoch 8/10\n",
            "13485/13485 [==============================] - 93s 7ms/step - loss: 3.1854e-05 - accuracy: 1.0000 - val_loss: 2.9941e-05 - val_accuracy: 1.0000\n",
            "Epoch 9/10\n",
            "13485/13485 [==============================] - 81s 6ms/step - loss: 2.7773e-05 - accuracy: 1.0000 - val_loss: 2.6352e-05 - val_accuracy: 1.0000\n",
            "Epoch 10/10\n",
            "13485/13485 [==============================] - 78s 6ms/step - loss: 2.4577e-05 - accuracy: 1.0000 - val_loss: 2.3502e-05 - val_accuracy: 1.0000\n",
            "3372/3372 [==============================] - 9s 3ms/step - loss: 2.3502e-05 - accuracy: 1.0000\n",
            "Accuracy of LSTM model with SGD optimizer: 100.0 %\n"
          ]
        }
      ]
    },
    {
      "cell_type": "markdown",
      "source": [
        "Comparison Chart"
      ],
      "metadata": {
        "id": "Y7Vs6qs3Yhcv"
      }
    },
    {
      "cell_type": "code",
      "source": [
        "# Assuming you have already trained and evaluated all the models and stored their accuracies\n",
        "accuracies = {\n",
        "    'SGD': acc_sgd,\n",
        "    'Ran_For':acc_random_forest,\n",
        "    'RNN': acc_random_forest,\n",
        "    'Logistic': acc_log,\n",
        "    'KNN': acc_knn,\n",
        "    'NB': nb_accuracy,\n",
        "    'Dt': dt_accuracy,\n",
        "    'CNN': accuracy_cnn,\n",
        "    'RNN': accuracy_rnn,\n",
        "    'LSTM': accuracy_lstm,\n",
        "    'Voting':model_accuracy,\n",
        "    'Hybrid_LSTM':accuracy_lstm\n",
        "}\n",
        "\n",
        "# Plotting the bar graph\n",
        "plt.figure(figsize=(10, 6))\n",
        "plt.bar(accuracies.keys(), accuracies.values(), color='skyblue')\n",
        "plt.xlabel('Algorithm')\n",
        "plt.ylabel('Accuracy')\n",
        "plt.title('Accuracy of Different Machine Learning and Deep Learnning  Algorithms')\n",
        "plt.ylim(10, 110)  # Set y-axis limits to ensure all accuracies are visible\n",
        "plt.show()\n"
      ],
      "metadata": {
        "colab": {
          "base_uri": "https://localhost:8080/",
          "height": 564
        },
        "id": "heBcQCCDYkHK",
        "outputId": "fbe33d93-d733-4442-d569-8ba59ceec599"
      },
      "execution_count": 50,
      "outputs": [
        {
          "output_type": "display_data",
          "data": {
            "text/plain": [
              "<Figure size 1000x600 with 1 Axes>"
            ],
            "image/png": "[encoded data removed]"
          },
          "metadata": {}
        }
      ]
    }
  ]
}